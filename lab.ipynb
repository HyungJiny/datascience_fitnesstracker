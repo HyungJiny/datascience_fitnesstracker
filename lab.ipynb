{
 "cells": [
  {
   "cell_type": "code",
   "execution_count": 1,
   "metadata": {},
   "outputs": [],
   "source": [
    "import numpy as np\n",
    "import pandas as pd\n",
    "import matplotlib.pyplot as plt\n",
    "from datetime import datetime\n",
    "import seaborn as sns"
   ]
  },
  {
   "cell_type": "code",
   "execution_count": 2,
   "metadata": {},
   "outputs": [
    {
     "data": {
      "text/html": [
       "<div>\n",
       "<style scoped>\n",
       "    .dataframe tbody tr th:only-of-type {\n",
       "        vertical-align: middle;\n",
       "    }\n",
       "\n",
       "    .dataframe tbody tr th {\n",
       "        vertical-align: top;\n",
       "    }\n",
       "\n",
       "    .dataframe thead th {\n",
       "        text-align: right;\n",
       "    }\n",
       "</style>\n",
       "<table border=\"1\" class=\"dataframe\">\n",
       "  <thead>\n",
       "    <tr style=\"text-align: right;\">\n",
       "      <th></th>\n",
       "      <th>user</th>\n",
       "      <th>date</th>\n",
       "      <th>calories</th>\n",
       "      <th>steps</th>\n",
       "      <th>sleep_start</th>\n",
       "      <th>sleep_timeInBed</th>\n",
       "      <th>sleep_minutesAsleep</th>\n",
       "      <th>sleep_awakeningsCount</th>\n",
       "      <th>sleep_minutesAwake</th>\n",
       "      <th>sleep_minutesToFallAsleep</th>\n",
       "      <th>sleep_minutesAfterWakeup</th>\n",
       "      <th>sleep_efficiency</th>\n",
       "    </tr>\n",
       "  </thead>\n",
       "  <tbody>\n",
       "    <tr>\n",
       "      <th>0</th>\n",
       "      <td>myfitbit</td>\n",
       "      <td>2019-04-15</td>\n",
       "      <td>3050.7825</td>\n",
       "      <td>11614</td>\n",
       "      <td>05:44:30</td>\n",
       "      <td>211.0</td>\n",
       "      <td>187.0</td>\n",
       "      <td>0.0</td>\n",
       "      <td>0.0</td>\n",
       "      <td>0.0</td>\n",
       "      <td>0.0</td>\n",
       "      <td>0.0</td>\n",
       "    </tr>\n",
       "    <tr>\n",
       "      <th>1</th>\n",
       "      <td>myfitbit</td>\n",
       "      <td>2019-04-16</td>\n",
       "      <td>2217.6090</td>\n",
       "      <td>4316</td>\n",
       "      <td>01:22:00</td>\n",
       "      <td>475.0</td>\n",
       "      <td>410.0</td>\n",
       "      <td>0.0</td>\n",
       "      <td>0.0</td>\n",
       "      <td>0.0</td>\n",
       "      <td>0.0</td>\n",
       "      <td>0.0</td>\n",
       "    </tr>\n",
       "    <tr>\n",
       "      <th>2</th>\n",
       "      <td>myfitbit</td>\n",
       "      <td>2019-04-17</td>\n",
       "      <td>2776.5735</td>\n",
       "      <td>10469</td>\n",
       "      <td>05:19:30</td>\n",
       "      <td>238.0</td>\n",
       "      <td>216.0</td>\n",
       "      <td>0.0</td>\n",
       "      <td>0.0</td>\n",
       "      <td>0.0</td>\n",
       "      <td>0.0</td>\n",
       "      <td>0.0</td>\n",
       "    </tr>\n",
       "  </tbody>\n",
       "</table>\n",
       "</div>"
      ],
      "text/plain": [
       "       user        date   calories  steps sleep_start  sleep_timeInBed  \\\n",
       "0  myfitbit  2019-04-15  3050.7825  11614    05:44:30            211.0   \n",
       "1  myfitbit  2019-04-16  2217.6090   4316    01:22:00            475.0   \n",
       "2  myfitbit  2019-04-17  2776.5735  10469    05:19:30            238.0   \n",
       "\n",
       "   sleep_minutesAsleep  sleep_awakeningsCount  sleep_minutesAwake  \\\n",
       "0                187.0                    0.0                 0.0   \n",
       "1                410.0                    0.0                 0.0   \n",
       "2                216.0                    0.0                 0.0   \n",
       "\n",
       "   sleep_minutesToFallAsleep  sleep_minutesAfterWakeup  sleep_efficiency  \n",
       "0                        0.0                       0.0               0.0  \n",
       "1                        0.0                       0.0               0.0  \n",
       "2                        0.0                       0.0               0.0  "
      ]
     },
     "execution_count": 2,
     "metadata": {},
     "output_type": "execute_result"
    }
   ],
   "source": [
    "df = pd.read_csv('./data/user_daily_fitbit_data.csv')\n",
    "df = df.fillna(0)\n",
    "df.head(3)"
   ]
  },
  {
   "cell_type": "code",
   "execution_count": null,
   "metadata": {},
   "outputs": [],
   "source": [
    "df['']"
   ]
  }
 ],
 "metadata": {
  "kernelspec": {
   "display_name": "Python 3",
   "language": "python",
   "name": "python3"
  },
  "language_info": {
   "codemirror_mode": {
    "name": "ipython",
    "version": 3
   },
   "file_extension": ".py",
   "mimetype": "text/x-python",
   "name": "python",
   "nbconvert_exporter": "python",
   "pygments_lexer": "ipython3",
   "version": "3.7.0"
  }
 },
 "nbformat": 4,
 "nbformat_minor": 2
}
